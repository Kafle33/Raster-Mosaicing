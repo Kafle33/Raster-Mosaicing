{
 "cells": [
  {
   "cell_type": "markdown",
   "metadata": {},
   "source": [
    "# Mosaicing the images"
   ]
  },
  {
   "cell_type": "code",
   "execution_count": 47,
   "metadata": {},
   "outputs": [],
   "source": [
    "from osgeo import gdal"
   ]
  },
  {
   "cell_type": "code",
   "execution_count": 48,
   "metadata": {},
   "outputs": [],
   "source": [
    "import os\n",
    "os.chdir(r'E:\\PYTHON-ASSIGNMENT\\'mosaic')"
   ]
  },
  {
   "cell_type": "code",
   "execution_count": 49,
   "metadata": {},
   "outputs": [],
   "source": [
    "file_names = ['ASTGTMV003_S21E047_dem.tif','ASTGTMV003_S22E047_dem.tif','ASTGTMV003_S22E048_dem.tif','ASTGTMV003_S21E048_dem.tif']\n"
   ]
  },
  {
   "cell_type": "code",
   "execution_count": 50,
   "metadata": {},
   "outputs": [
    {
     "name": "stdout",
     "output_type": "stream",
     "text": [
      "<osgeo.gdal.Dataset; proxy of <Swig Object of type 'GDALDatasetShadow *' at 0x000002A400BC47E0> >\n"
     ]
    }
   ],
   "source": [
    "ds=gdal.Open(file_names[3])\n",
    "print(ds)"
   ]
  },
  {
   "cell_type": "code",
   "execution_count": 51,
   "metadata": {},
   "outputs": [],
   "source": [
    "# geotransform = ds.GetGeoTransform()\n",
    "# originX = geotransform[0]\n",
    "# originY = geotransform[3]\n",
    "# OS Python week 4: Reading raster data [11]\n",
    "# pixelWidth = geotransform[1]\n",
    "# pixelHeight = geotransform[5]\n",
    "\n",
    "def compute_extents(ds):\n",
    "    trf = ds.GetGeoTransform()\n",
    "    left = trf[0]\n",
    "    right = trf[0]+trf[1]*ds.RasterXSize\n",
    "    top = trf[3]\n",
    "    bottom = trf[3]+trf[5]*ds.RasterYSize\n",
    "    return(left,right,bottom,top)"
   ]
  },
  {
   "cell_type": "code",
   "execution_count": 52,
   "metadata": {},
   "outputs": [],
   "source": [
    "ds_list = list()\n",
    "for file in file_names:\n",
    "    dataset = gdal.Open(file)\n",
    "    ds_list.append(dataset)"
   ]
  },
  {
   "cell_type": "code",
   "execution_count": 53,
   "metadata": {},
   "outputs": [
    {
     "data": {
      "text/plain": [
       "46.9998611111111"
      ]
     },
     "execution_count": 53,
     "metadata": {},
     "output_type": "execute_result"
    }
   ],
   "source": [
    "mos_left,mos_right,mos_bottom,mos_top = compute_extents(ds_list[0])\n",
    "mos_left"
   ]
  },
  {
   "cell_type": "code",
   "execution_count": 54,
   "metadata": {},
   "outputs": [],
   "source": [
    "for i in range(1,len(file_names)):\n",
    "    left,right,bottom,top = compute_extents(ds_list[i])\n",
    "    mos_left = min(left,mos_left)\n",
    "    mos_right = max(right,mos_right)\n",
    "    mos_top = max(top,mos_top)\n",
    "    mos_bottom = min(bottom,mos_bottom)"
   ]
  },
  {
   "cell_type": "code",
   "execution_count": 55,
   "metadata": {},
   "outputs": [
    {
     "name": "stdout",
     "output_type": "stream",
     "text": [
      "46.9998611111111 49.00013888888888 -22.00013888888888 -19.9998611111111\n"
     ]
    }
   ],
   "source": [
    "print(mos_left,mos_right,mos_bottom,mos_top)"
   ]
  },
  {
   "cell_type": "code",
   "execution_count": 56,
   "metadata": {},
   "outputs": [],
   "source": [
    "prj = ds_list[0].GetProjection()"
   ]
  },
  {
   "cell_type": "code",
   "execution_count": 57,
   "metadata": {},
   "outputs": [],
   "source": [
    "trf = ds_list[0].GetGeoTransform()"
   ]
  },
  {
   "cell_type": "code",
   "execution_count": 58,
   "metadata": {},
   "outputs": [
    {
     "data": {
      "text/plain": [
       "[46.9998611111111,\n",
       " 0.000277777777777778,\n",
       " 0.0,\n",
       " -19.9998611111111,\n",
       " 0.0,\n",
       " -0.000277777777777778]"
      ]
     },
     "execution_count": 58,
     "metadata": {},
     "output_type": "execute_result"
    }
   ],
   "source": [
    "mos_trf = list(trf)\n",
    "mos_trf"
   ]
  },
  {
   "cell_type": "code",
   "execution_count": 59,
   "metadata": {},
   "outputs": [],
   "source": [
    "# mos_trf[0]=left\n",
    "# mos_trf[3]=top\n"
   ]
  },
  {
   "cell_type": "code",
   "execution_count": 60,
   "metadata": {},
   "outputs": [],
   "source": [
    "driver = gdal.GetDriverByName('GTiff')"
   ]
  },
  {
   "cell_type": "code",
   "execution_count": 61,
   "metadata": {},
   "outputs": [],
   "source": [
    "import math"
   ]
  },
  {
   "cell_type": "code",
   "execution_count": 62,
   "metadata": {},
   "outputs": [],
   "source": [
    "width = math.ceil((mos_right-mos_left)/mos_trf[1])\n",
    "height = math.ceil((mos_bottom-mos_top)/mos_trf[5])"
   ]
  },
  {
   "cell_type": "code",
   "execution_count": 63,
   "metadata": {},
   "outputs": [
    {
     "data": {
      "text/plain": [
       "0"
      ]
     },
     "execution_count": 63,
     "metadata": {},
     "output_type": "execute_result"
    }
   ],
   "source": [
    "out_ds = driver.Create('final_mosaiced.tiff',width,height,eType=gdal.GDT_UInt16)\n",
    "out_ds.SetProjection(prj)\n",
    "out_ds.SetGeoTransform(mos_trf)"
   ]
  },
  {
   "cell_type": "code",
   "execution_count": 64,
   "metadata": {},
   "outputs": [],
   "source": [
    "for ds in ds_list:\n",
    "    trns = gdal.Transformer(ds,out_ds,[])\n",
    "    suc,xyz = trns.TransformPoint(False,0,0)\n",
    "    x,y,z = map(int,xyz)\n",
    "    data_out = ds.GetRasterBand(1).ReadAsArray()\n",
    "    out_ds.GetRasterBand(1).WriteArray(data_out,x,y)"
   ]
  },
  {
   "cell_type": "code",
   "execution_count": 65,
   "metadata": {},
   "outputs": [],
   "source": [
    "mosaic_dataset = out_ds.ReadAsArray()"
   ]
  },
  {
   "cell_type": "code",
   "execution_count": 66,
   "metadata": {},
   "outputs": [
    {
     "data": {
      "text/plain": [
       "0"
      ]
     },
     "execution_count": 66,
     "metadata": {},
     "output_type": "execute_result"
    }
   ],
   "source": [
    "out_ds.BuildOverviews('average',[2,4,8,16,32])"
   ]
  },
  {
   "cell_type": "code",
   "execution_count": 67,
   "metadata": {},
   "outputs": [
    {
     "data": {
      "text/plain": [
       "<matplotlib.image.AxesImage at 0x2a402517100>"
      ]
     },
     "execution_count": 67,
     "metadata": {},
     "output_type": "execute_result"
    },
    {
     "data": {
      "image/png": "[encoded data removed]",
      "text/plain": [
       "<Figure size 432x288 with 1 Axes>"
      ]
     },
     "metadata": {
      "needs_background": "light"
     },
     "output_type": "display_data"
    }
   ],
   "source": [
    "import matplotlib.pyplot as plt\n",
    "# plt.figure(figsize=(10,10))\n",
    "plt.imshow(mosaic_dataset,clim=(50,100),cmap=\n",
    "          'gray',extent=([-1, 1, -1, 1]))"
   ]
  },
  {
   "cell_type": "code",
   "execution_count": 68,
   "metadata": {},
   "outputs": [],
   "source": [
    "out_ds.FlushCache()\n",
    "del ds_list"
   ]
  },
  {
   "cell_type": "code",
   "execution_count": null,
   "metadata": {},
   "outputs": [],
   "source": []
  }
 ],
 "metadata": {
  "kernelspec": {
   "display_name": "Python 3.8.13 ('myenv')",
   "language": "python",
   "name": "python3"
  },
  "language_info": {
   "codemirror_mode": {
    "name": "ipython",
    "version": 3
   },
   "file_extension": ".py",
   "mimetype": "text/x-python",
   "name": "python",
   "nbconvert_exporter": "python",
   "pygments_lexer": "ipython3",
   "version": "3.8.13"
  },
  "orig_nbformat": 4,
  "vscode": {
   "interpreter": {
    "hash": "6297d360852260ef8c81e78eef5f461360d563418965bf7e4b6f54e341f9bd2a"
   }
  }
 },
 "nbformat": 4,
 "nbformat_minor": 2
}
